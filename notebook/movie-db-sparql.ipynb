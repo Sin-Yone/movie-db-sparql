{
 "cells": [
  {
   "attachments": {},
   "cell_type": "markdown",
   "id": "fc5bb9c9",
   "metadata": {
    "tags": []
   },
   "source": [
    "# Filmdatenbank mithilfe von SPARQL mit OpenData erweitern"
   ]
  },
  {
   "attachments": {},
   "cell_type": "markdown",
   "id": "af8c9039",
   "metadata": {},
   "source": [
    "### Disclaimer\n",
    "Um den Code in diesem Notebook ausführen zu können, müssen vorher einige Packages installiert, importiert und eine Verbindung zur MongoDB aufgebaut werden. Dazu muss der nachstehende Code Block ausgeführt werden."
   ]
  },
  {
   "cell_type": "code",
   "execution_count": null,
   "id": "a6824d1f",
   "metadata": {},
   "outputs": [],
   "source": [
    "%pip install pymongo\n",
    "%pip install SPARQL-Burger\n",
    "%pip install requests\n",
    "from SPARQLBurger.SPARQLQueryBuilder import *\n",
    "import requests\n",
    "import pandas as pd\n",
    "import pymongo\n",
    "from pprint import pprint\n",
    "client = pymongo.MongoClient(\"mongodb://mongodb:27017\")\n",
    "db = client['moviedb']\n",
    "collection = db['movie']"
   ]
  },
  {
   "attachments": {},
   "cell_type": "markdown",
   "id": "49d79719",
   "metadata": {},
   "source": [
    "## 1. Aufgabe"
   ]
  },
  {
   "attachments": {},
   "cell_type": "markdown",
   "id": "d280fb98",
   "metadata": {},
   "source": [
    "### 1.1 Beschreibung\n",
    "Eine vorgegebenen Filmdatenbank für MongoDB soll mit OpenData erweitert werden. Als Datenbasis wird [Wikidata](https://wikidata.org/) genutzt, \n",
    "welche einer der größten offenen und kollaborativ erstellten Wissensdatenbanken der **Welt** ist. Die Filmdatenbank soll mit ausgewählten Informationen ergänzt werden und die neuen Daten dargestellt werden. Schlussendlich sollen neuen Abfragemöglichkeiten gezeigt werden, die sich aufgrund der neuen Daten ergeben."
   ]
  },
  {
   "attachments": {},
   "cell_type": "markdown",
   "id": "d3ccfc92",
   "metadata": {
    "tags": []
   },
   "source": [
    "### 1.2 Beispielhafter Datensatz\n",
    "```json\n",
    "{\n",
    "  \"_id\": {\n",
    "    \"$oid\": \"646787ea309412c96f14b0c4\"\n",
    "  },\n",
    "  \"index\": 0,\n",
    "  \"adult\": \"False\",\n",
    "  \"belongs_to_collection\": \"{'id': 10194, 'name': 'Toy Story Collection', 'poster_path': '/7G9915LfUQ2lVfwMEEhDsn3kT4B.jpg', 'backdrop_path': '/9FBwqcd9IRruEDUrTdcaafOMKUq.jpg'}\",\n",
    "  \"budget\": \"30000000\",\n",
    "  \"genres\": \"[{'id': 16, 'name': 'Animation'}, {'id': 35, 'name': 'Comedy'}, {'id': 10751, 'name': 'Family'}]\",\n",
    "  \"homepage\": \"http://toystory.disney.com/toy-story\",\n",
    "  \"id\": \"862\",\n",
    "  \"imdb_id\": \"tt0114709\",\n",
    "  \"original_language\": \"en\",\n",
    "  \"original_title\": \"Toy Story\",\n",
    "  \"overview\": \"Led by Woody, Andy's toys live happily in his room until Andy's birthday brings Buzz Lightyear onto the scene. Afraid of losing his place in Andy's heart, Woody plots against Buzz. But when circumstances separate Buzz and Woody from their owner, the duo eventually learns to put aside their differences.\",\n",
    "  \"popularity\": 21.946943,\n",
    "  \"poster_path\": \"/rhIRbceoE9lR4veEXuwCC2wARtG.jpg\",\n",
    "  \"production_companies\": \"[{'name': 'Pixar Animation Studios', 'id': 3}]\",\n",
    "  \"production_countries\": \"[{'iso_3166_1': 'US', 'name': 'United States of America'}]\",\n",
    "  \"release_date\": \"1995-10-30\",\n",
    "  \"revenue\": 373554033,\n",
    "  \"runtime\": 81,\n",
    "  \"spoken_languages\": \"[{'iso_639_1': 'en', 'name': 'English'}]\",\n",
    "  \"status\": \"Released\",\n",
    "  \"tagline\": {\n",
    "    \"$numberDouble\": \"NaN\"\n",
    "  },\n",
    "  \"title\": \"Toy Story\",\n",
    "  \"video\": false,\n",
    "  \"vote_average\": 7.7,\n",
    "  \"vote_count\": 5415,\n",
    "}\n",
    "```"
   ]
  },
  {
   "attachments": {},
   "cell_type": "markdown",
   "id": "4e0d741a",
   "metadata": {
    "tags": []
   },
   "source": [
    "### 1.3 Umsetzung"
   ]
  },
  {
   "attachments": {},
   "cell_type": "markdown",
   "id": "abc8e436",
   "metadata": {},
   "source": [
    "#### 1.3.1 Erweitern der Daten mithilfe von SPARQL"
   ]
  },
  {
   "attachments": {},
   "cell_type": "markdown",
   "metadata": {},
   "source": [
    "Um die gegebenen Filme mit Daten zu erweitern, müssen diese über eine Eigenschaft eindeutig identifiziert werden können. Jeder der Filme hat die Eigenschaft `imdb_id`. \n",
    "\n",
    "[IMDb (Internet Movie Database)](https://www.imdb.com/) ist eine amerikantische Datenbank für Filme, Serien und Spiele.\n",
    "\n",
    "Wikidata besitzt einen Eintrag, in der die `imdb_id` (P345) als Eigenschaft beschrieben wird (https://www.wikidata.org/wiki/Property:P345). Entsprechend kann bei einer SPARQL Abfrage diese Eigenschaft genutzt werden, um den Film in der Wikidata Datebank zu finden.\n",
    "\n",
    "In der nachfolgenden Tabelle sind die neuen Daten aufgelistet, mit denen die vorhanden Filme erweitert wurden. Wie bei der IMDb ID hat jede Eigenschaft eine eigene Property ID, mit der diese eindeutig identifiziert werden kann.\n",
    "\n",
    "| Name             | Property | URI                                          |\n",
    "|------------------|----------|----------------------------------------------|\n",
    "| Director         | P57      | https://www.wikidata.org/wiki/Property:P57   |\n",
    "| Cast member      | P161     | https://www.wikidata.org/wiki/Property:P161  |\n",
    "| Voice Actor      | P725     | https://www.wikidata.org/wiki/Property:P725  |\n",
    "| Producer         | P162     | https://www.wikidata.org/wiki/Property:P162  |\n",
    "| Composer         | P86      | https://www.wikidata.org/wiki/Property:P86   |\n",
    "| Main subject     | P921     | https://www.wikidata.org/wiki/Property:P921  |\n",
    "| Follows          | P155     | https://www.wikidata.org/wiki/Property:P155  |\n",
    "| Followed By      | P156     | https://www.wikidata.org/wiki/Property:P156  |\n",
    "| Publication Date | P577     | https://www.wikidata.org/wiki/Property:P577  |\n",
    "| Cost             | P2130    | https://www.wikidata.org/wiki/Property:P2130 |\n",
    "\n",
    "##### Abfrage in SPARQL\n",
    "Die Daten werden über SPARQL von Wikidata abgefragt. Eine beispielhafte Abfrage für einen Film ist nachfolgend zu sehen.\n",
    "```SQL\n",
    "SELECT DISTINCT ?film ?filmLabel ?id ?director ?directorLabel ?castMember ?castMemberLabel ?voiceActor ?voiceActorLabel ?producer ?producerLabel ?composer ?composerLabel ?mainSubject ?mainSubjectLabel ?follows ?followsLabel ?followedBy ?followedByLabel ?publicationDate ?cost\n",
    "WHERE {\n",
    "   ?film wdt:P345 ?id . \n",
    "   SERVICE wikibase:label { bd:serviceParam wikibase:language 'en'. } . \n",
    "   OPTIONAL {\n",
    "      ?film wdt:P57 ?director . \n",
    "   }\n",
    "   OPTIONAL {\n",
    "      ?film wdt:P161 ?castMember . \n",
    "   }\n",
    "   OPTIONAL {\n",
    "      ?film wdt:P725 ?voiceActor . \n",
    "   }\n",
    "   OPTIONAL {\n",
    "      ?film wdt:P162 ?producer . \n",
    "   }\n",
    "   OPTIONAL {\n",
    "      ?film wdt:P86 ?composer . \n",
    "   }\n",
    "   OPTIONAL {\n",
    "      ?film wdt:P921 ?mainSubject . \n",
    "   }\n",
    "   OPTIONAL {\n",
    "      ?film wdt:P155 ?follows . \n",
    "   }\n",
    "   OPTIONAL {\n",
    "      ?film wdt:P156 ?followedBy . \n",
    "   }\n",
    "   OPTIONAL {\n",
    "      ?film wdt:P577 ?publicationDate . \n",
    "   }\n",
    "   OPTIONAL {\n",
    "      ?film wdt:P2130 ?cost . \n",
    "   }\n",
    "   FILTER (?id=\"tt0114709\")\n",
    "}\n",
    "```\n",
    "\n",
    "Beispielhafter Aufruf mithilfe des [Wikidata Query Service](https://query.wikidata.org/#SELECT%20DISTINCT%20%3Ffilm%20%3FfilmLabel%20%3Fid%20%3Fdirector%20%3FdirectorLabel%20%3FcastMember%20%3FcastMemberLabel%20%3FvoiceActor%20%3FvoiceActorLabel%20%3Fproducer%20%3FproducerLabel%20%3Fcomposer%20%3FcomposerLabel%20%3FmainSubject%20%3FmainSubjectLabel%20%3Ffollows%20%3FfollowsLabel%20%3FfollowedBy%20%3FfollowedByLabel%20%3FpublicationDate%20%3Fcost%0AWHERE%20%7B%0A%20%20%20%3Ffilm%20wdt%3AP345%20%3Fid%20.%20%0A%20%20%20SERVICE%20wikibase%3Alabel%20%7B%20bd%3AserviceParam%20wikibase%3Alanguage%20%27en%27.%20%7D%20.%20%0A%20%20%20OPTIONAL%20%7B%0A%20%20%20%20%20%20%3Ffilm%20wdt%3AP57%20%3Fdirector%20.%20%0A%20%20%20%7D%0A%20%20%20OPTIONAL%20%7B%0A%20%20%20%20%20%20%3Ffilm%20wdt%3AP161%20%3FcastMember%20.%20%0A%20%20%20%7D%0A%20%20%20OPTIONAL%20%7B%0A%20%20%20%20%20%20%3Ffilm%20wdt%3AP725%20%3FvoiceActor%20.%20%0A%20%20%20%7D%0A%20%20%20OPTIONAL%20%7B%0A%20%20%20%20%20%20%3Ffilm%20wdt%3AP162%20%3Fproducer%20.%20%0A%20%20%20%7D%0A%20%20%20OPTIONAL%20%7B%0A%20%20%20%20%20%20%3Ffilm%20wdt%3AP86%20%3Fcomposer%20.%20%0A%20%20%20%7D%0A%20%20%20OPTIONAL%20%7B%0A%20%20%20%20%20%20%3Ffilm%20wdt%3AP921%20%3FmainSubject%20.%20%0A%20%20%20%7D%0A%20%20%20OPTIONAL%20%7B%0A%20%20%20%20%20%20%3Ffilm%20wdt%3AP155%20%3Ffollows%20.%20%0A%20%20%20%7D%0A%20%20%20OPTIONAL%20%7B%0A%20%20%20%20%20%20%3Ffilm%20wdt%3AP156%20%3FfollowedBy%20.%20%0A%20%20%20%7D%0A%20%20%20OPTIONAL%20%7B%0A%20%20%20%20%20%20%3Ffilm%20wdt%3AP577%20%3FpublicationDate%20.%20%0A%20%20%20%7D%0A%20%20%20OPTIONAL%20%7B%0A%20%20%20%20%20%20%3Ffilm%20wdt%3AP2130%20%3Fcost%20.%20%0A%20%20%20%7D%0A%20%20%20FILTER%20%28%3Fid%3D%22tt0114709%22%29%0A%7D%0A).\n",
    "\n",
    "Wir haben den SPARQL Wrapper [SPARQLBurger](https://pmitzias.com/SPARQLBurger/) genutzt, mit denen SPARQL abfragen Objektorientiert erstellt werden können."
   ]
  },
  {
   "cell_type": "code",
   "execution_count": null,
   "id": "9264095b",
   "metadata": {},
   "outputs": [],
   "source": [
    "select = [\"?film\", \"?filmLabel\", \"?id\", \"?director\", \"?directorLabel\", \"?castMember\", \"?castMemberLabel\", \"?voiceActor\",\n",
    "          \"?voiceActorLabel\", \"?producer\", \"?producerLabel\", \"?composer\", \"?composerLabel\", \"?mainSubject\",\n",
    "          \"?mainSubjectLabel\", \"?follows\", \"?followsLabel\", \"?followedBy\", \"?followedByLabel\", \"?publicationDate\",\n",
    "          \"?cost\"]\n",
    "select_query = SPARQLSelectQuery(distinct=True)\n",
    "# SELECT\n",
    "select_query.add_variables(select)\n",
    "# Create a graph pattern\n",
    "pattern = SPARQLGraphPattern()\n",
    "\n",
    "# WHERE\n",
    "pattern.add_triples(\n",
    "    triples=[\n",
    "        Triple(subject=\"?film\", predicate=\"wdt:P345\", object=\"?id\"),\n",
    "        Triple(subject=\"SERVICE\", predicate=\"wikibase:label\", object=\"{ bd:serviceParam wikibase:language 'en'. }\")\n",
    "    ]\n",
    ")\n",
    "\n",
    "# Filter\n",
    "pattern.add_filter(filter=Filter(expression=\"?id='tt0114709'\"))\n",
    "\n",
    "for option in [\n",
    "    {'predicate': \"wdt:P57\", 'object': \"?director\"},\n",
    "    {'predicate': \"wdt:P161\", 'object': \"?castMember\"},\n",
    "    {'predicate': \"wdt:P725\", 'object': \"?voiceActor\"},\n",
    "    {'predicate': \"wdt:P162\", 'object': \"?producer\"},\n",
    "    {'predicate': \"wdt:P86\", 'object': \"?composer\"},\n",
    "    {'predicate': \"wdt:P921\", 'object': \"?mainSubject\"},\n",
    "    {'predicate': \"wdt:P155\", 'object': \"?follows\"},\n",
    "    {'predicate': \"wdt:P156\", 'object': \"?followedBy\"},\n",
    "    {'predicate': \"wdt:P577\", 'object': \"?publicationDate\"},\n",
    "    {'predicate': \"wdt:P2130\", 'object': \"?cost\"}]:\n",
    "    # Create an optional graph pattern\n",
    "    optionalPattern = SPARQLGraphPattern(optional=True)\n",
    "    # OPTIONAL\n",
    "    optionalPattern.add_triples(\n",
    "        triples=[Triple(subject=\"?film\", predicate=option['predicate'], object=option['object'])])\n",
    "\n",
    "    # Merge both patterns into one\n",
    "    pattern.add_nested_graph_pattern(optionalPattern)\n",
    "\n",
    "select_query.set_where_pattern(pattern)\n",
    "print(select_query.get_text())\n",
    "r = requests.get('https://query.wikidata.org/sparql', params={'query': select_query.get_text()},\n",
    "                    headers={'accept': 'application/sparql-results+json',\n",
    "                            'User-Agent': 'HSD_DAW_BOT/1.0 (https://github.com/Sin-Yone/movie-db-sparql) python-requests'})\n",
    "results = r.json()['results']['bindings']\n",
    "print(results)"
   ]
  },
  {
   "attachments": {},
   "cell_type": "markdown",
   "id": "3faefb2d",
   "metadata": {},
   "source": [
    "##### Problem\n",
    "Wie man sieht wird der Film wird gefunden, allerdings ist die Ladezeit hoch. Für ledeglich **einen** Film liegt die Abfragezeit dabei zwischen **10 und 20 Sekunden**. Der zur Verfügung gestellte Datensatz hat insgesamt 45466 Filme. Würde es für jeden Film 15 Sekunden dauern, wären dies circa **190 Stunden** oder **8 Tage**. Das ist sehr langem, weswegen die Zeit umbedingt verkürzt werden sollte.\n",
    "\n",
    "##### Verbesserung der Abfrage\n",
    "Die erstellte Abfrage kann verbessert werden, indem pro Anfrage mehrere Filme geladen werden, anstatt eine Anfrage für jeden Film. Die Anzahl wie viele Filme aufeinmal geladen werden können ist unterschiedlich. Beim Testen haben die Werte zwischen 50-100 pro Anfrage gut funktioniert. Alles über 200 führt zu einem Error da, der Anfrage-Header dann zu groß ist. Zur Darstellung werden folgend nur 25 Filme geladen, was als Beispiel allerdings ausreichend sein sollte.\n",
    "\n",
    "Der Code von oben bleibt fast identisch. Allerdings wird der Filter angepasst, sodass die ID nicht gleich einer anderen ID ist, sondern mindestens eine der IDs in einem Array entspricht (IN Operator). \n",
    "\n",
    "Die verbesserte Abfrage sieht in SPARQL nun folgendermaßen aus:\n",
    "```SQL\n",
    "SELECT DISTINCT ?film ?filmLabel ?id ?director ?directorLabel ?castMember ?castMemberLabel ?voiceActor ?voiceActorLabel ?producer ?producerLabel ?composer ?composerLabel ?mainSubject ?mainSubjectLabel ?follows ?followsLabel ?followedBy ?followedByLabel ?publicationDate ?cost\n",
    "WHERE {\n",
    "   ?film wdt:P345 ?id . \n",
    "   SERVICE wikibase:label { bd:serviceParam wikibase:language 'en'. } . \n",
    "   OPTIONAL {\n",
    "      ?film wdt:P57 ?director . \n",
    "   }\n",
    "   OPTIONAL {\n",
    "      ?film wdt:P161 ?castMember . \n",
    "   }\n",
    "   OPTIONAL {\n",
    "      ?film wdt:P725 ?voiceActor . \n",
    "   }\n",
    "   OPTIONAL {\n",
    "      ?film wdt:P162 ?producer . \n",
    "   }\n",
    "   OPTIONAL {\n",
    "      ?film wdt:P86 ?composer . \n",
    "   }\n",
    "   OPTIONAL {\n",
    "      ?film wdt:P921 ?mainSubject . \n",
    "   }\n",
    "   OPTIONAL {\n",
    "      ?film wdt:P155 ?follows . \n",
    "   }\n",
    "   OPTIONAL {\n",
    "      ?film wdt:P156 ?followedBy . \n",
    "   }\n",
    "   OPTIONAL {\n",
    "      ?film wdt:P577 ?publicationDate . \n",
    "   }\n",
    "   OPTIONAL {\n",
    "      ?film wdt:P2130 ?cost . \n",
    "   }\n",
    "   FILTER (?id IN(\"tt0114709\", \"tt0113497\", \"tt0113228\", \"tt0114885\", \"tt0113041\", \"tt0113277\", \"tt0114319\", \"tt0112302\", \"tt0114576\", \"tt0113189\", \"tt0112346\", \"tt0112896\", \"tt0112453\", \"tt0113987\", \"tt0112760\", \"tt0112641\", \"tt0114388\", \"tt0113101\", \"tt0112281\", \"tt0113845\", \"tt0113161\", \"tt0112722\", \"tt0112401\", \"tt0114168\", \"tt0113627\"))\n",
    "}\n",
    "```\n",
    "\n",
    "Beispielhafter Aufruf mithilfe des [Wikidata Query Service](https://query.wikidata.org/#SELECT%20DISTINCT%20%3Ffilm%20%3FfilmLabel%20%3Fid%20%3Fdirector%20%3FdirectorLabel%20%3FcastMember%20%3FcastMemberLabel%20%3FvoiceActor%20%3FvoiceActorLabel%20%3Fproducer%20%3FproducerLabel%20%3Fcomposer%20%3FcomposerLabel%20%3FmainSubject%20%3FmainSubjectLabel%20%3Ffollows%20%3FfollowsLabel%20%3FfollowedBy%20%3FfollowedByLabel%20%3FpublicationDate%20%3Fcost%0AWHERE%20%7B%0A%20%20%20%3Ffilm%20wdt%3AP345%20%3Fid%20.%20%0A%20%20%20SERVICE%20wikibase%3Alabel%20%7B%20bd%3AserviceParam%20wikibase%3Alanguage%20%27en%27.%20%7D%20.%20%0A%20%20%20OPTIONAL%20%7B%0A%20%20%20%20%20%20%3Ffilm%20wdt%3AP57%20%3Fdirector%20.%20%0A%20%20%20%7D%0A%20%20%20OPTIONAL%20%7B%0A%20%20%20%20%20%20%3Ffilm%20wdt%3AP161%20%3FcastMember%20.%20%0A%20%20%20%7D%0A%20%20%20OPTIONAL%20%7B%0A%20%20%20%20%20%20%3Ffilm%20wdt%3AP725%20%3FvoiceActor%20.%20%0A%20%20%20%7D%0A%20%20%20OPTIONAL%20%7B%0A%20%20%20%20%20%20%3Ffilm%20wdt%3AP162%20%3Fproducer%20.%20%0A%20%20%20%7D%0A%20%20%20OPTIONAL%20%7B%0A%20%20%20%20%20%20%3Ffilm%20wdt%3AP86%20%3Fcomposer%20.%20%0A%20%20%20%7D%0A%20%20%20OPTIONAL%20%7B%0A%20%20%20%20%20%20%3Ffilm%20wdt%3AP921%20%3FmainSubject%20.%20%0A%20%20%20%7D%0A%20%20%20OPTIONAL%20%7B%0A%20%20%20%20%20%20%3Ffilm%20wdt%3AP155%20%3Ffollows%20.%20%0A%20%20%20%7D%0A%20%20%20OPTIONAL%20%7B%0A%20%20%20%20%20%20%3Ffilm%20wdt%3AP156%20%3FfollowedBy%20.%20%0A%20%20%20%7D%0A%20%20%20OPTIONAL%20%7B%0A%20%20%20%20%20%20%3Ffilm%20wdt%3AP577%20%3FpublicationDate%20.%20%0A%20%20%20%7D%0A%20%20%20OPTIONAL%20%7B%0A%20%20%20%20%20%20%3Ffilm%20wdt%3AP2130%20%3Fcost%20.%20%0A%20%20%20%7D%0A%20%20%20FILTER%20%28%3Fid%20IN%28%22tt0114709%22%2C%20%22tt0113497%22%2C%20%22tt0113228%22%2C%20%22tt0114885%22%2C%20%22tt0113041%22%2C%20%22tt0113277%22%2C%20%22tt0114319%22%2C%20%22tt0112302%22%2C%20%22tt0114576%22%2C%20%22tt0113189%22%2C%20%22tt0112346%22%2C%20%22tt0112896%22%2C%20%22tt0112453%22%2C%20%22tt0113987%22%2C%20%22tt0112760%22%2C%20%22tt0112641%22%2C%20%22tt0114388%22%2C%20%22tt0113101%22%2C%20%22tt0112281%22%2C%20%22tt0113845%22%2C%20%22tt0113161%22%2C%20%22tt0112722%22%2C%20%22tt0112401%22%2C%20%22tt0114168%22%2C%20%22tt0113627%22%29%29%0A%7D).\n",
    "\n",
    "Bei 25 Filmen dauert es circa 30 Sekunden. Das bedeutet pro Film ungefähr **1,2 Sekunden**. Umgerechnet auf die 45466 Filme wären dies nur noch circa **15 Stunden** bzw. **0.6 Tage**. Dadurch können deutlich mehr Daten in einer kürzeren Zeit geladen werden."
   ]
  },
  {
   "cell_type": "code",
   "execution_count": null,
   "id": "984a4082",
   "metadata": {},
   "outputs": [],
   "source": [
    "ids = list(map(lambda doc: doc['imdb_id'], collection.find({},{\"imdb_id\": 1}).limit(25)))\n",
    "# Create a graph pattern\n",
    "pattern = SPARQLGraphPattern()\n",
    "\n",
    "# WHERE\n",
    "pattern.add_triples(\n",
    "    triples=[\n",
    "        Triple(subject=\"?film\", predicate=\"wdt:P345\", object=\"?id\"),\n",
    "        Triple(subject=\"SERVICE\", predicate=\"wikibase:label\", object=\"{ bd:serviceParam wikibase:language 'en'. }\")\n",
    "    ]\n",
    ")\n",
    "# Filter\n",
    "pattern.add_filter(filter=Filter(expression=\"?id IN({0})\".format(', '.join(f'\"{_id}\"' for _id in ids))))\n",
    "\n",
    "for option in [\n",
    "    {'predicate': \"wdt:P57\", 'object': \"?director\"},\n",
    "    {'predicate': \"wdt:P161\", 'object': \"?castMember\"},\n",
    "    {'predicate': \"wdt:P725\", 'object': \"?voiceActor\"},\n",
    "    {'predicate': \"wdt:P162\", 'object': \"?producer\"},\n",
    "    {'predicate': \"wdt:P86\", 'object': \"?composer\"},\n",
    "    {'predicate': \"wdt:P921\", 'object': \"?mainSubject\"},\n",
    "    {'predicate': \"wdt:P155\", 'object': \"?follows\"},\n",
    "    {'predicate': \"wdt:P156\", 'object': \"?followedBy\"},\n",
    "    {'predicate': \"wdt:P577\", 'object': \"?publicationDate\"},\n",
    "    {'predicate': \"wdt:P2130\", 'object': \"?cost\"}]:\n",
    "    # Create an optional graph pattern\n",
    "    optionalPattern = SPARQLGraphPattern(optional=True)\n",
    "    # OPTIONAL\n",
    "    optionalPattern.add_triples(\n",
    "        triples=[Triple(subject=\"?film\", predicate=option['predicate'], object=option['object'])])\n",
    "\n",
    "    # Merge both patterns into one\n",
    "    pattern.add_nested_graph_pattern(optionalPattern)\n",
    "\n",
    "select_query.set_where_pattern(pattern)\n",
    "print(select_query.get_text())\n",
    "r = requests.get('https://query.wikidata.org/sparql', params={'query': select_query.get_text()},\n",
    "                    headers={'accept': 'application/sparql-results+json',\n",
    "                            'User-Agent': 'HSD_DAW_BOT/1.0 (https://github.com/Sin-Yone/movie-db-sparql) python-requests'})\n",
    "results = r.json()['results']['bindings']\n",
    "print(results[0:10])"
   ]
  },
  {
   "attachments": {},
   "cell_type": "markdown",
   "id": "31bd51e4",
   "metadata": {},
   "source": [
    "// Aufbereitung der Daten\n",
    "// Sortierung nach jedem Film\n",
    "// Für jeden Film Daten zusammenfassen\n",
    "// Über IMDb ID in der DB updaten"
   ]
  },
  {
   "attachments": {},
   "cell_type": "markdown",
   "id": "354072b0",
   "metadata": {},
   "source": [
    "// Wie viele Datensätze könnten insgesamt erweitert werden (Vll Grafik mit Prozent)\n",
    "// Bei wie vielen der Daten sind wirklich Daten hinterlegt"
   ]
  },
  {
   "attachments": {},
   "cell_type": "markdown",
   "id": "75654e8e",
   "metadata": {},
   "source": [
    "### 1.3.2 Datensatz mit erweiterten Informationen"
   ]
  },
  {
   "attachments": {},
   "cell_type": "markdown",
   "id": "7eb72484",
   "metadata": {
    "tags": []
   },
   "source": [
    "## 2. Abfragen mit der Datenbank"
   ]
  },
  {
   "attachments": {},
   "cell_type": "markdown",
   "id": "4e82b61a",
   "metadata": {},
   "source": [
    "### 2.1 Beispielhafte Abfragen"
   ]
  },
  {
   "attachments": {},
   "cell_type": "markdown",
   "id": "3cf55fa2",
   "metadata": {},
   "source": [
    "Alle Filme mit Schauspieler X oder Y"
   ]
  },
  {
   "cell_type": "code",
   "execution_count": null,
   "id": "d0cf056f",
   "metadata": {},
   "outputs": [],
   "source": [
    "movies = collection.find({'cast_member': { '$in': ['Kursten Dunst', 'Brad Pitt']}})\n",
    "for movie in movies:\n",
    "    pprint(movie['title'])\n",
    "    pprint(movie['cast_member'])\n",
    "    pprint('-----------------------')"
   ]
  },
  {
   "attachments": {},
   "cell_type": "markdown",
   "id": "d2174375",
   "metadata": {},
   "source": [
    "Alle Filme mit Thema X und Y"
   ]
  },
  {
   "cell_type": "code",
   "execution_count": null,
   "id": "f24593e3",
   "metadata": {},
   "outputs": [],
   "source": [
    "movies = collection.find({'main_subject': { '$all': ['computing', 'artificial intelligence']}})\n",
    "for movie in movies:\n",
    "    pprint(movie['title'])\n",
    "    pprint(movie['main_subject'])\n",
    "    pprint('-----------------------')"
   ]
  },
  {
   "attachments": {},
   "cell_type": "markdown",
   "id": "d69ae491",
   "metadata": {},
   "source": [
    "Alle Filme mit einem Vorgänger oder Nachfolger"
   ]
  },
  {
   "cell_type": "code",
   "execution_count": null,
   "id": "57f73cca",
   "metadata": {},
   "outputs": [],
   "source": [
    "movies = collection.find({'$or': [ {'follows': {'$ne': ''}}, {'followed_by': {'$ne': ''}}]})\n",
    "for movie in movies:\n",
    "    pprint(f'Vorgänger: {movie.get(\"follows\", \"\")}')\n",
    "    pprint(f'Nachfolger: {movie.get(\"followed_by\", \"\")}')\n",
    "    pprint('-----------------------')"
   ]
  },
  {
   "attachments": {},
   "cell_type": "markdown",
   "id": "bbe9ba61",
   "metadata": {},
   "source": [
    "Alle Filme mit Kosten zwischen X und Y"
   ]
  },
  {
   "cell_type": "code",
   "execution_count": null,
   "id": "d0822dc7",
   "metadata": {},
   "outputs": [],
   "source": [
    "movies = collection.find({'$and': [\n",
    "     {'cost': {'$ne': ''}},\n",
    "     {'$expr': {'$gte': [{'$toDouble': '$cost'}, 10000000]}},\n",
    "     {'$expr': {'$lte': [{'$toDouble': '$cost'}, 15000000]}} \n",
    "     ]})\n",
    "for movie in movies:\n",
    "    pprint(movie['cost'])"
   ]
  },
  {
   "attachments": {},
   "cell_type": "markdown",
   "id": "9512c46f",
   "metadata": {},
   "source": [
    "### 2.2 Eure Abfragen"
   ]
  },
  {
   "cell_type": "code",
   "execution_count": null,
   "id": "ac0a18b0",
   "metadata": {},
   "outputs": [],
   "source": [
    "movies = collection.find({})\n",
    "for movie in movies:\n",
    "    pprint(movie)"
   ]
  }
 ],
 "metadata": {
  "kernelspec": {
   "display_name": "Python 3 (ipykernel)",
   "language": "python",
   "name": "python3"
  },
  "language_info": {
   "codemirror_mode": {
    "name": "ipython",
    "version": 3
   },
   "file_extension": ".py",
   "mimetype": "text/x-python",
   "name": "python",
   "nbconvert_exporter": "python",
   "pygments_lexer": "ipython3",
   "version": "3.10.11"
  }
 },
 "nbformat": 4,
 "nbformat_minor": 5
}
