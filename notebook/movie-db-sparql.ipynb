{
 "cells": [
  {
   "attachments": {},
   "cell_type": "markdown",
   "id": "fc5bb9c9",
   "metadata": {
    "tags": []
   },
   "source": [
    "# Filmdatenbank mithilfe von SPARQL mit OpenData erweitern"
   ]
  },
  {
   "attachments": {},
   "cell_type": "markdown",
   "id": "af8c9039",
   "metadata": {},
   "source": [
    "### Disclaimer\n",
    "Um den Code in diesem Notebook ausführen zu können, müssen vorher einige Packages installiert, importiert und eine Verbindung zur MongoDB aufgebaut werden. Dazu muss der nachstehende Code Block ausgeführt werden."
   ]
  },
  {
   "cell_type": "code",
   "execution_count": 10,
   "id": "a6824d1f",
   "metadata": {
    "tags": [],
    "vscode": {
     "languageId": "python"
    }
   },
   "outputs": [
    {
     "name": "stdout",
     "output_type": "stream",
     "text": [
      "Collecting pymongo\n",
      "  Downloading pymongo-4.3.3-cp310-cp310-manylinux_2_17_aarch64.manylinux2014_aarch64.whl (493 kB)\n",
      "\u001b[2K     \u001b[90m━━━━━━━━━━━━━━━━━━━━━━━━━━━━━━━━━━━━━━━\u001b[0m \u001b[32m493.3/493.3 kB\u001b[0m \u001b[31m1.9 MB/s\u001b[0m eta \u001b[36m0:00:00\u001b[0ma \u001b[36m0:00:01\u001b[0m\n",
      "\u001b[?25hCollecting dnspython<3.0.0,>=1.16.0 (from pymongo)\n",
      "  Downloading dnspython-2.3.0-py3-none-any.whl (283 kB)\n",
      "\u001b[2K     \u001b[90m━━━━━━━━━━━━━━━━━━━━━━━━━━━━━━━━━━━━━━━\u001b[0m \u001b[32m283.7/283.7 kB\u001b[0m \u001b[31m2.8 MB/s\u001b[0m eta \u001b[36m0:00:00\u001b[0ma \u001b[36m0:00:01\u001b[0m\n",
      "\u001b[?25hInstalling collected packages: dnspython, pymongo\n",
      "Successfully installed dnspython-2.3.0 pymongo-4.3.3\n",
      "Note: you may need to restart the kernel to use updated packages.\n",
      "Collecting SPARQL-Burger\n",
      "  Downloading SPARQL_Burger-1.0.2-py3-none-any.whl (12 kB)\n",
      "Installing collected packages: SPARQL-Burger\n",
      "Successfully installed SPARQL-Burger-1.0.2\n",
      "Note: you may need to restart the kernel to use updated packages.\n",
      "Requirement already satisfied: requests in /opt/conda/lib/python3.10/site-packages (2.31.0)\n",
      "Requirement already satisfied: charset-normalizer<4,>=2 in /opt/conda/lib/python3.10/site-packages (from requests) (3.1.0)\n",
      "Requirement already satisfied: idna<4,>=2.5 in /opt/conda/lib/python3.10/site-packages (from requests) (3.4)\n",
      "Requirement already satisfied: urllib3<3,>=1.21.1 in /opt/conda/lib/python3.10/site-packages (from requests) (2.0.2)\n",
      "Requirement already satisfied: certifi>=2017.4.17 in /opt/conda/lib/python3.10/site-packages (from requests) (2023.5.7)\n",
      "Note: you may need to restart the kernel to use updated packages.\n"
     ]
    }
   ],
   "source": [
    "%pip install pymongo\n",
    "%pip install SPARQL-Burger\n",
    "%pip install requests\n",
    "from SPARQLBurger.SPARQLQueryBuilder import *\n",
    "import requests\n",
    "import pandas as pd\n",
    "import pymongo\n",
    "from pprint import pprint\n",
    "client = pymongo.MongoClient(\"mongodb://mongodb:27017\")\n",
    "db = client['moviedb']\n",
    "collection = db['movie']"
   ]
  },
  {
   "attachments": {},
   "cell_type": "markdown",
   "id": "49d79719",
   "metadata": {},
   "source": [
    "## 1. Aufgabe"
   ]
  },
  {
   "attachments": {},
   "cell_type": "markdown",
   "id": "d280fb98",
   "metadata": {},
   "source": [
    "### 1.1 Beschreibung\n",
    "Eine vorgegebenen Filmdatenbank für die MongoDB soll mit OpenData erweitert werden. Als Datenbasis wird [Wikidata](https://wikidata.org/) genutzt, \n",
    "welche einer der größten offenen und kollaborativ erstellten Wissensdatenbanken der **Welt** ist. Die Filmdatenbank soll mit ausgewählten Informationen ergänzt werden und die neuen Daten dargestellt werden. Schlussendlich sollen neuen Abfragemöglichkeiten gezeigt werden, die sich aufgrund der neuen Daten ergeben."
   ]
  },
  {
   "attachments": {},
   "cell_type": "markdown",
   "id": "d3ccfc92",
   "metadata": {
    "tags": []
   },
   "source": [
    "### 1.2 Beispielhafter Datensatz\n",
    "```json\n",
    "{\n",
    "  \"_id\": {\n",
    "    \"$oid\": \"646787ea309412c96f14b0c4\"\n",
    "  },\n",
    "  \"index\": 0,\n",
    "  \"adult\": \"False\",\n",
    "  \"belongs_to_collection\": \"{'id': 10194, 'name': 'Toy Story Collection', 'poster_path': '/7G9915LfUQ2lVfwMEEhDsn3kT4B.jpg', 'backdrop_path': '/9FBwqcd9IRruEDUrTdcaafOMKUq.jpg'}\",\n",
    "  \"budget\": \"30000000\",\n",
    "  \"genres\": \"[{'id': 16, 'name': 'Animation'}, {'id': 35, 'name': 'Comedy'}, {'id': 10751, 'name': 'Family'}]\",\n",
    "  \"homepage\": \"http://toystory.disney.com/toy-story\",\n",
    "  \"id\": \"862\",\n",
    "  \"imdb_id\": \"tt0114709\",\n",
    "  \"original_language\": \"en\",\n",
    "  \"original_title\": \"Toy Story\",\n",
    "  \"overview\": \"Led by Woody, Andy's toys live happily in his room until Andy's birthday brings Buzz Lightyear onto the scene. Afraid of losing his place in Andy's heart, Woody plots against Buzz. But when circumstances separate Buzz and Woody from their owner, the duo eventually learns to put aside their differences.\",\n",
    "  \"popularity\": 21.946943,\n",
    "  \"poster_path\": \"/rhIRbceoE9lR4veEXuwCC2wARtG.jpg\",\n",
    "  \"production_companies\": \"[{'name': 'Pixar Animation Studios', 'id': 3}]\",\n",
    "  \"production_countries\": \"[{'iso_3166_1': 'US', 'name': 'United States of America'}]\",\n",
    "  \"release_date\": \"1995-10-30\",\n",
    "  \"revenue\": 373554033,\n",
    "  \"runtime\": 81,\n",
    "  \"spoken_languages\": \"[{'iso_639_1': 'en', 'name': 'English'}]\",\n",
    "  \"status\": \"Released\",\n",
    "  \"tagline\": {\n",
    "    \"$numberDouble\": \"NaN\"\n",
    "  },\n",
    "  \"title\": \"Toy Story\",\n",
    "  \"video\": false,\n",
    "  \"vote_average\": 7.7,\n",
    "  \"vote_count\": 5415,\n",
    "}\n",
    "```"
   ]
  },
  {
   "attachments": {},
   "cell_type": "markdown",
   "id": "4e0d741a",
   "metadata": {
    "tags": []
   },
   "source": [
    "### 1.3 Umsetzung"
   ]
  },
  {
   "attachments": {},
   "cell_type": "markdown",
   "id": "abc8e436",
   "metadata": {},
   "source": [
    "#### 1.3.1 Erweitern der Daten mithilfe von SPARQL"
   ]
  },
  {
   "attachments": {},
   "cell_type": "markdown",
   "id": "119a9556",
   "metadata": {},
   "source": [
    "Um die gegebenen Filme mit Daten zu erweitern, müssen diese über eine Eigenschaft eindeutig identifiziert werden können. Jeder der Filme hat die Eigenschaft `imdb_id`. \n",
    "\n",
    "[IMDb (Internet Movie Database)](https://www.imdb.com/) ist eine amerikantische Datenbank für Filme, Serien und Spiele.\n",
    "\n",
    "Wikidata besitzt einen Eintrag, in der die `imdb_id` (P345) als Eigenschaft beschrieben wird (https://www.wikidata.org/wiki/Property:P345). Entsprechend kann bei einer SPARQL Abfrage diese Eigenschaft genutzt werden, um den Film in der Wikidata Datenbank zu finden.\n",
    "\n",
    "In der nachfolgenden Tabelle sind die neuen Daten aufgelistet, mit denen die vorhanden Filme erweitert wurden. Wie bei der IMDb ID hat jede Eigenschaft eine eigene Property ID, mit der diese eindeutig identifiziert werden kann.\n",
    "\n",
    "| Name             | Property | URI                                          |\n",
    "|------------------|----------|----------------------------------------------|\n",
    "| Director         | P57      | https://www.wikidata.org/wiki/Property:P57   |\n",
    "| Cast member      | P161     | https://www.wikidata.org/wiki/Property:P161  |\n",
    "| Voice actor      | P725     | https://www.wikidata.org/wiki/Property:P725  |\n",
    "| Producer         | P162     | https://www.wikidata.org/wiki/Property:P162  |\n",
    "| Composer         | P86      | https://www.wikidata.org/wiki/Property:P86   |\n",
    "| Main subject     | P921     | https://www.wikidata.org/wiki/Property:P921  |\n",
    "| Follows          | P155     | https://www.wikidata.org/wiki/Property:P155  |\n",
    "| Followed by      | P156     | https://www.wikidata.org/wiki/Property:P156  |\n",
    "| Publication date | P577     | https://www.wikidata.org/wiki/Property:P577  |\n",
    "| Cost             | P2130    | https://www.wikidata.org/wiki/Property:P2130 |\n",
    "\n",
    "##### Abfrage in SPARQL\n",
    "Die Daten werden über SPARQL von Wikidata abgefragt. Eine beispielhafte Abfrage für einen Film ist nachfolgend zu sehen.\n",
    "```SQL\n",
    "SELECT DISTINCT ?film ?filmLabel ?id ?director ?directorLabel ?castMember ?castMemberLabel ?voiceActor ?voiceActorLabel ?producer ?producerLabel ?composer ?composerLabel ?mainSubject ?mainSubjectLabel ?follows ?followsLabel ?followedBy ?followedByLabel ?publicationDate ?cost\n",
    "WHERE {\n",
    "   ?film wdt:P345 ?id . \n",
    "   SERVICE wikibase:label { bd:serviceParam wikibase:language 'en'. } . \n",
    "   OPTIONAL {\n",
    "      ?film wdt:P57 ?director . \n",
    "   }\n",
    "   OPTIONAL {\n",
    "      ?film wdt:P161 ?castMember . \n",
    "   }\n",
    "   OPTIONAL {\n",
    "      ?film wdt:P725 ?voiceActor . \n",
    "   }\n",
    "   OPTIONAL {\n",
    "      ?film wdt:P162 ?producer . \n",
    "   }\n",
    "   OPTIONAL {\n",
    "      ?film wdt:P86 ?composer . \n",
    "   }\n",
    "   OPTIONAL {\n",
    "      ?film wdt:P921 ?mainSubject . \n",
    "   }\n",
    "   OPTIONAL {\n",
    "      ?film wdt:P155 ?follows . \n",
    "   }\n",
    "   OPTIONAL {\n",
    "      ?film wdt:P156 ?followedBy . \n",
    "   }\n",
    "   OPTIONAL {\n",
    "      ?film wdt:P577 ?publicationDate . \n",
    "   }\n",
    "   OPTIONAL {\n",
    "      ?film wdt:P2130 ?cost . \n",
    "   }\n",
    "   FILTER (?id=\"tt0114709\")\n",
    "}\n",
    "```\n",
    "\n",
    "Beispielhafter Aufruf mithilfe des [Wikidata Query Service](https://query.wikidata.org/#SELECT%20DISTINCT%20%3Ffilm%20%3FfilmLabel%20%3Fid%20%3Fdirector%20%3FdirectorLabel%20%3FcastMember%20%3FcastMemberLabel%20%3FvoiceActor%20%3FvoiceActorLabel%20%3Fproducer%20%3FproducerLabel%20%3Fcomposer%20%3FcomposerLabel%20%3FmainSubject%20%3FmainSubjectLabel%20%3Ffollows%20%3FfollowsLabel%20%3FfollowedBy%20%3FfollowedByLabel%20%3FpublicationDate%20%3Fcost%0AWHERE%20%7B%0A%20%20%20%3Ffilm%20wdt%3AP345%20%3Fid%20.%20%0A%20%20%20SERVICE%20wikibase%3Alabel%20%7B%20bd%3AserviceParam%20wikibase%3Alanguage%20%27en%27.%20%7D%20.%20%0A%20%20%20OPTIONAL%20%7B%0A%20%20%20%20%20%20%3Ffilm%20wdt%3AP57%20%3Fdirector%20.%20%0A%20%20%20%7D%0A%20%20%20OPTIONAL%20%7B%0A%20%20%20%20%20%20%3Ffilm%20wdt%3AP161%20%3FcastMember%20.%20%0A%20%20%20%7D%0A%20%20%20OPTIONAL%20%7B%0A%20%20%20%20%20%20%3Ffilm%20wdt%3AP725%20%3FvoiceActor%20.%20%0A%20%20%20%7D%0A%20%20%20OPTIONAL%20%7B%0A%20%20%20%20%20%20%3Ffilm%20wdt%3AP162%20%3Fproducer%20.%20%0A%20%20%20%7D%0A%20%20%20OPTIONAL%20%7B%0A%20%20%20%20%20%20%3Ffilm%20wdt%3AP86%20%3Fcomposer%20.%20%0A%20%20%20%7D%0A%20%20%20OPTIONAL%20%7B%0A%20%20%20%20%20%20%3Ffilm%20wdt%3AP921%20%3FmainSubject%20.%20%0A%20%20%20%7D%0A%20%20%20OPTIONAL%20%7B%0A%20%20%20%20%20%20%3Ffilm%20wdt%3AP155%20%3Ffollows%20.%20%0A%20%20%20%7D%0A%20%20%20OPTIONAL%20%7B%0A%20%20%20%20%20%20%3Ffilm%20wdt%3AP156%20%3FfollowedBy%20.%20%0A%20%20%20%7D%0A%20%20%20OPTIONAL%20%7B%0A%20%20%20%20%20%20%3Ffilm%20wdt%3AP577%20%3FpublicationDate%20.%20%0A%20%20%20%7D%0A%20%20%20OPTIONAL%20%7B%0A%20%20%20%20%20%20%3Ffilm%20wdt%3AP2130%20%3Fcost%20.%20%0A%20%20%20%7D%0A%20%20%20FILTER%20%28%3Fid%3D%22tt0114709%22%29%0A%7D%0A).\n",
    "\n",
    "Wir haben den SPARQL Wrapper [SPARQLBurger](https://pmitzias.com/SPARQLBurger/) genutzt, mit denen SPARQL abfragen Objektorientiert erstellt werden können."
   ]
  },
  {
   "cell_type": "code",
   "execution_count": null,
   "id": "9264095b",
   "metadata": {
    "tags": [],
    "vscode": {
     "languageId": "python"
    }
   },
   "outputs": [],
   "source": [
    "%%time\n",
    "select = [\"?film\", \"?filmLabel\", \"?id\", \"?director\", \"?directorLabel\", \"?castMember\", \"?castMemberLabel\", \"?voiceActor\",\n",
    "          \"?voiceActorLabel\", \"?producer\", \"?producerLabel\", \"?composer\", \"?composerLabel\", \"?mainSubject\",\n",
    "          \"?mainSubjectLabel\", \"?follows\", \"?followsLabel\", \"?followedBy\", \"?followedByLabel\", \"?publicationDate\",\n",
    "          \"?cost\"]\n",
    "select_query = SPARQLSelectQuery(distinct=True)\n",
    "# SELECT\n",
    "select_query.add_variables(select)\n",
    "# Create a graph pattern\n",
    "pattern = SPARQLGraphPattern()\n",
    "\n",
    "# WHERE\n",
    "pattern.add_triples(\n",
    "    triples=[\n",
    "        Triple(subject=\"?film\", predicate=\"wdt:P345\", object=\"?id\"),\n",
    "        Triple(subject=\"SERVICE\", predicate=\"wikibase:label\", object=\"{ bd:serviceParam wikibase:language 'en'. }\")\n",
    "    ]\n",
    ")\n",
    "\n",
    "# Filter\n",
    "pattern.add_filter(filter=Filter(expression=\"?id='tt0114709'\"))\n",
    "\n",
    "for option in [\n",
    "    {'predicate': \"wdt:P57\", 'object': \"?director\"},\n",
    "    {'predicate': \"wdt:P161\", 'object': \"?castMember\"},\n",
    "    {'predicate': \"wdt:P725\", 'object': \"?voiceActor\"},\n",
    "    {'predicate': \"wdt:P162\", 'object': \"?producer\"},\n",
    "    {'predicate': \"wdt:P86\", 'object': \"?composer\"},\n",
    "    {'predicate': \"wdt:P921\", 'object': \"?mainSubject\"},\n",
    "    {'predicate': \"wdt:P155\", 'object': \"?follows\"},\n",
    "    {'predicate': \"wdt:P156\", 'object': \"?followedBy\"},\n",
    "    {'predicate': \"wdt:P577\", 'object': \"?publicationDate\"},\n",
    "    {'predicate': \"wdt:P2130\", 'object': \"?cost\"}]:\n",
    "    # Create an optional graph pattern\n",
    "    optionalPattern = SPARQLGraphPattern(optional=True)\n",
    "    # OPTIONAL\n",
    "    optionalPattern.add_triples(\n",
    "        triples=[Triple(subject=\"?film\", predicate=option['predicate'], object=option['object'])])\n",
    "\n",
    "    # Merge both patterns into one\n",
    "    pattern.add_nested_graph_pattern(optionalPattern)\n",
    "\n",
    "select_query.set_where_pattern(pattern)\n",
    "print(select_query.get_text())\n",
    "r = requests.get('https://query.wikidata.org/sparql', params={'query': select_query.get_text()},\n",
    "                    headers={'accept': 'application/sparql-results+json',\n",
    "                            'User-Agent': 'HSD_DAW_BOT/1.0 (https://github.com/Sin-Yone/movie-db-sparql) python-requests'})\n",
    "results = r.json()['results']['bindings']\n",
    "print(results[0])"
   ]
  },
  {
   "attachments": {},
   "cell_type": "markdown",
   "id": "3faefb2d",
   "metadata": {},
   "source": [
    "##### Problem\n",
    "Wie man sieht wird der Film gefunden, allerdings ist die Ladezeit lange. Für ledeglich **einen** Film liegt die Abfragezeit dabei zwischen **10 und 20 Sekunden**. Der zur Verfügung gestellte Datensatz hat insgesamt 45466 Filme. Würde es für jeden Film 15 Sekunden dauern, wären dies circa **190 Stunden** oder **8 Tage**. Das ist sehr lange, weswegen die Zeit umbedingt verkürzt werden sollte.\n",
    "\n",
    "##### Verbesserung der Abfrage\n",
    "Die erstellte Abfrage kann verbessert werden, indem pro Anfrage mehrere Filme geladen werden, anstatt eine Anfrage für jeden Film. Die Anzahl wie viele Filme aufeinmal geladen werden können ist unterschiedlich. Beim Testen haben die Werte zwischen 50-100 pro Anfrage gut funktioniert. Alles über 200 führt zu einem Error da, der Anfrage-Header dann zu groß ist. Zur Darstellung werden folgend nur 25 Filme geladen, was als Beispiel allerdings ausreichend sein sollte.\n",
    "\n",
    "Der Code von oben bleibt fast identisch. Allerdings wird der Filter angepasst, sodass die ID nicht gleich einer anderen ID ist, sondern mindestens eine der IDs in einem Array entspricht (IN Operator). \n",
    "\n",
    "Die verbesserte Abfrage sieht in SPARQL nun folgendermaßen aus:\n",
    "```SQL\n",
    "SELECT DISTINCT ?film ?filmLabel ?id ?director ?directorLabel ?castMember ?castMemberLabel ?voiceActor ?voiceActorLabel ?producer ?producerLabel ?composer ?composerLabel ?mainSubject ?mainSubjectLabel ?follows ?followsLabel ?followedBy ?followedByLabel ?publicationDate ?cost\n",
    "WHERE {\n",
    "   ?film wdt:P345 ?id . \n",
    "   SERVICE wikibase:label { bd:serviceParam wikibase:language 'en'. } . \n",
    "   OPTIONAL {\n",
    "      ?film wdt:P57 ?director . \n",
    "   }\n",
    "   OPTIONAL {\n",
    "      ?film wdt:P161 ?castMember . \n",
    "   }\n",
    "   OPTIONAL {\n",
    "      ?film wdt:P725 ?voiceActor . \n",
    "   }\n",
    "   OPTIONAL {\n",
    "      ?film wdt:P162 ?producer . \n",
    "   }\n",
    "   OPTIONAL {\n",
    "      ?film wdt:P86 ?composer . \n",
    "   }\n",
    "   OPTIONAL {\n",
    "      ?film wdt:P921 ?mainSubject . \n",
    "   }\n",
    "   OPTIONAL {\n",
    "      ?film wdt:P155 ?follows . \n",
    "   }\n",
    "   OPTIONAL {\n",
    "      ?film wdt:P156 ?followedBy . \n",
    "   }\n",
    "   OPTIONAL {\n",
    "      ?film wdt:P577 ?publicationDate . \n",
    "   }\n",
    "   OPTIONAL {\n",
    "      ?film wdt:P2130 ?cost . \n",
    "   }\n",
    "   FILTER (?id IN(\"tt0114709\", \"tt0113497\", \"tt0113228\", \"tt0114885\", \"tt0113041\", \"tt0113277\", \"tt0114319\", \"tt0112302\", \"tt0114576\", \"tt0113189\", \"tt0112346\", \"tt0112896\", \"tt0112453\", \"tt0113987\", \"tt0112760\", \"tt0112641\", \"tt0114388\", \"tt0113101\", \"tt0112281\", \"tt0113845\", \"tt0113161\", \"tt0112722\", \"tt0112401\", \"tt0114168\", \"tt0113627\"))\n",
    "}\n",
    "```\n",
    "\n",
    "Beispielhafter Aufruf mithilfe des [Wikidata Query Service](https://query.wikidata.org/#SELECT%20DISTINCT%20%3Ffilm%20%3FfilmLabel%20%3Fid%20%3Fdirector%20%3FdirectorLabel%20%3FcastMember%20%3FcastMemberLabel%20%3FvoiceActor%20%3FvoiceActorLabel%20%3Fproducer%20%3FproducerLabel%20%3Fcomposer%20%3FcomposerLabel%20%3FmainSubject%20%3FmainSubjectLabel%20%3Ffollows%20%3FfollowsLabel%20%3FfollowedBy%20%3FfollowedByLabel%20%3FpublicationDate%20%3Fcost%0AWHERE%20%7B%0A%20%20%20%3Ffilm%20wdt%3AP345%20%3Fid%20.%20%0A%20%20%20SERVICE%20wikibase%3Alabel%20%7B%20bd%3AserviceParam%20wikibase%3Alanguage%20%27en%27.%20%7D%20.%20%0A%20%20%20OPTIONAL%20%7B%0A%20%20%20%20%20%20%3Ffilm%20wdt%3AP57%20%3Fdirector%20.%20%0A%20%20%20%7D%0A%20%20%20OPTIONAL%20%7B%0A%20%20%20%20%20%20%3Ffilm%20wdt%3AP161%20%3FcastMember%20.%20%0A%20%20%20%7D%0A%20%20%20OPTIONAL%20%7B%0A%20%20%20%20%20%20%3Ffilm%20wdt%3AP725%20%3FvoiceActor%20.%20%0A%20%20%20%7D%0A%20%20%20OPTIONAL%20%7B%0A%20%20%20%20%20%20%3Ffilm%20wdt%3AP162%20%3Fproducer%20.%20%0A%20%20%20%7D%0A%20%20%20OPTIONAL%20%7B%0A%20%20%20%20%20%20%3Ffilm%20wdt%3AP86%20%3Fcomposer%20.%20%0A%20%20%20%7D%0A%20%20%20OPTIONAL%20%7B%0A%20%20%20%20%20%20%3Ffilm%20wdt%3AP921%20%3FmainSubject%20.%20%0A%20%20%20%7D%0A%20%20%20OPTIONAL%20%7B%0A%20%20%20%20%20%20%3Ffilm%20wdt%3AP155%20%3Ffollows%20.%20%0A%20%20%20%7D%0A%20%20%20OPTIONAL%20%7B%0A%20%20%20%20%20%20%3Ffilm%20wdt%3AP156%20%3FfollowedBy%20.%20%0A%20%20%20%7D%0A%20%20%20OPTIONAL%20%7B%0A%20%20%20%20%20%20%3Ffilm%20wdt%3AP577%20%3FpublicationDate%20.%20%0A%20%20%20%7D%0A%20%20%20OPTIONAL%20%7B%0A%20%20%20%20%20%20%3Ffilm%20wdt%3AP2130%20%3Fcost%20.%20%0A%20%20%20%7D%0A%20%20%20FILTER%20%28%3Fid%20IN%28%22tt0114709%22%2C%20%22tt0113497%22%2C%20%22tt0113228%22%2C%20%22tt0114885%22%2C%20%22tt0113041%22%2C%20%22tt0113277%22%2C%20%22tt0114319%22%2C%20%22tt0112302%22%2C%20%22tt0114576%22%2C%20%22tt0113189%22%2C%20%22tt0112346%22%2C%20%22tt0112896%22%2C%20%22tt0112453%22%2C%20%22tt0113987%22%2C%20%22tt0112760%22%2C%20%22tt0112641%22%2C%20%22tt0114388%22%2C%20%22tt0113101%22%2C%20%22tt0112281%22%2C%20%22tt0113845%22%2C%20%22tt0113161%22%2C%20%22tt0112722%22%2C%20%22tt0112401%22%2C%20%22tt0114168%22%2C%20%22tt0113627%22%29%29%0A%7D).\n",
    "\n",
    "Bei 25 Filmen dauert es circa 30 Sekunden. Das bedeutet pro Film ungefähr **1,2 Sekunden**. Umgerechnet auf die 45466 Filme wären dies nur noch circa **15 Stunden** bzw. **0.6 Tage**. Dadurch können deutlich mehr Daten in einer kürzeren Zeit geladen werden."
   ]
  },
  {
   "cell_type": "code",
   "execution_count": null,
   "id": "984a4082",
   "metadata": {
    "tags": [],
    "vscode": {
     "languageId": "python"
    }
   },
   "outputs": [],
   "source": [
    "%%time\n",
    "\n",
    "ids = list(map(lambda doc: doc['imdb_id'], collection.find({},{\"imdb_id\": 1}).limit(25)))\n",
    "# Create a graph pattern\n",
    "pattern = SPARQLGraphPattern()\n",
    "\n",
    "# WHERE\n",
    "pattern.add_triples(\n",
    "    triples=[\n",
    "        Triple(subject=\"?film\", predicate=\"wdt:P345\", object=\"?id\"),\n",
    "        Triple(subject=\"SERVICE\", predicate=\"wikibase:label\", object=\"{ bd:serviceParam wikibase:language 'en'. }\")\n",
    "    ]\n",
    ")\n",
    "# Filter\n",
    "pattern.add_filter(filter=Filter(expression=\"?id IN({0})\".format(', '.join(f'\"{_id}\"' for _id in ids))))\n",
    "\n",
    "for option in [\n",
    "    {'predicate': \"wdt:P57\", 'object': \"?director\"},\n",
    "    {'predicate': \"wdt:P161\", 'object': \"?castMember\"},\n",
    "    {'predicate': \"wdt:P725\", 'object': \"?voiceActor\"},\n",
    "    {'predicate': \"wdt:P162\", 'object': \"?producer\"},\n",
    "    {'predicate': \"wdt:P86\", 'object': \"?composer\"},\n",
    "    {'predicate': \"wdt:P921\", 'object': \"?mainSubject\"},\n",
    "    {'predicate': \"wdt:P155\", 'object': \"?follows\"},\n",
    "    {'predicate': \"wdt:P156\", 'object': \"?followedBy\"},\n",
    "    {'predicate': \"wdt:P577\", 'object': \"?publicationDate\"},\n",
    "    {'predicate': \"wdt:P2130\", 'object': \"?cost\"}]:\n",
    "    # Create an optional graph pattern\n",
    "    optionalPattern = SPARQLGraphPattern(optional=True)\n",
    "    # OPTIONAL\n",
    "    optionalPattern.add_triples(\n",
    "        triples=[Triple(subject=\"?film\", predicate=option['predicate'], object=option['object'])])\n",
    "\n",
    "    # Merge both patterns into one\n",
    "    pattern.add_nested_graph_pattern(optionalPattern)\n",
    "\n",
    "select_query.set_where_pattern(pattern)\n",
    "print(select_query.get_text())\n",
    "r = requests.get('https://query.wikidata.org/sparql', params={'query': select_query.get_text()},\n",
    "                    headers={'accept': 'application/sparql-results+json',\n",
    "                            'User-Agent': 'HSD_DAW_BOT/1.0 (https://github.com/Sin-Yone/movie-db-sparql) python-requests'})\n",
    "results = r.json()['results']['bindings']\n",
    "print(results[0:10])"
   ]
  },
  {
   "attachments": {},
   "cell_type": "markdown",
   "id": "31bd51e4",
   "metadata": {},
   "source": [
    "##### Speichern der neuen Daten\n",
    "Die Daten werden als JSON von Wikidata zurückgegeben. In einem Array wird jeder Film als ein Objekt repräsentiert. Dadurch das ein Film für eine Eigenschaft mehrere Werte haben kann, ist ein Film mehrmals in dem Array enthalten. Beispielsweise hat ein Film mehrere Darsteller (Cast Member). Entsprechend sind die Daten nicht sortiert und müssen zunächst aufbereitet werden.\n",
    "\n",
    "##### Filme sortieren\n",
    "Zuerst werden die Filme sortiert. Das bedeutet durch alle Ergebnisse wird iteriert und anhand der ID (imdb_id) der jeweilige Film identifiziert. Es wird ein neues Objekt (Dictionary) erstellt, wo der Key die ID des Filmes ist. Als Value werden in einem Array die Objekte des gleichen Filmes eingetragen. Damit sind alle Daten zu einem Film gruppiert."
   ]
  },
  {
   "cell_type": "code",
   "execution_count": null,
   "id": "f6b96e2e",
   "metadata": {
    "tags": [],
    "vscode": {
     "languageId": "python"
    }
   },
   "outputs": [],
   "source": [
    "sortedMovies = {}\n",
    "for movieData in results:\n",
    "    if not movieData: continue\n",
    "    if movieData['id']['value'] not in sortedMovies:\n",
    "        sortedMovies[movieData['id']['value']] = [movieData]\n",
    "    else:\n",
    "        sortedMovies[movieData['id']['value']].append(movieData)"
   ]
  },
  {
   "attachments": {},
   "cell_type": "markdown",
   "id": "1f430f7b",
   "metadata": {},
   "source": [
    "##### Filmdaten zusammenfassen\n",
    "Nach der Gruppierung der Filme müssen alle Daten zu einem Film in einem Objekt zusammengefasst werden, um diese in der Datenbank abzuspeichern. Dazu wird durch das Objekt iteriert, indem die Filme gruppiert wurden. Als Key kriegen wir die ID und als Value entsprechend ein Array mit allen Objekt zu einem Film. Veröffentlichkeitsdatum, Kosten, Vorgänger und Nachfolger können immer nur einen Wert haben, weswegen wir diese direkt aus dem ersten Eintrag Filmobjekt entnehmen können. Für alle anderen Werte muss jeweils durch jeden Film iteriert werden. Dabei wird geprüft ob der jeweilige Wert schon in dem neuen Objekt vorhanden ist. Falls nicht wird dieser angehangen.\n",
    "\n",
    "##### Updaten der Filme\n",
    "Wenn in einer Iteration alle Daten zu einem Film in dem neuen Objekt zusammengefasst wurden, können sie in der Datenbank abgespeichert werden. Dazu wird wieder die IMDb ID genutzt, um den Film in der Datenbank zu identifizieren. Die neuen Daten werden dann an die bisherigen angehangen."
   ]
  },
  {
   "cell_type": "code",
   "execution_count": null,
   "id": "71c250ae",
   "metadata": {
    "vscode": {
     "languageId": "python"
    }
   },
   "outputs": [],
   "source": [
    "for movieId, movies in sortedMovies.items():\n",
    "    # merge all movie data into one object\n",
    "    newMovieData = {\n",
    "        'director': [],\n",
    "        'cast_member': [],\n",
    "        'voice_actor': [],\n",
    "        'producer': [],\n",
    "        'composer': [],\n",
    "        'main_subject': [],\n",
    "        'publication_date': movies[0].get('publicationDate', {'value': ''})['value'],\n",
    "        'cost': movies[0].get('cost', {'value': ''})['value'],\n",
    "        'follows': movies[0].get('followsLabel', {'value': ''})['value'],\n",
    "        'followed_by': movies[0].get('followedByLabel', {'value': ''})['value'],\n",
    "    }\n",
    "\n",
    "    for movie in movies:\n",
    "        if movie.get('directorLabel') and movie['directorLabel']['value'] not in newMovieData['director']:\n",
    "            newMovieData[\n",
    "                'director'].append(movie['directorLabel']['value'])\n",
    "        if movie.get('castMemberLabel') and movie['castMemberLabel']['value'] not in newMovieData['cast_member']:\n",
    "            newMovieData[\n",
    "                'cast_member'].append(movie['castMemberLabel']['value'])\n",
    "        if movie.get('voiceActorLabel') and movie['voiceActorLabel']['value'] not in newMovieData['voice_actor']:\n",
    "            newMovieData[\n",
    "                'voice_actor'].append(movie['voiceActorLabel']['value'])\n",
    "        if movie.get('producerLabel') and movie['producerLabel']['value'] not in newMovieData['producer']:\n",
    "            newMovieData[\n",
    "                'producer'].append(movie['producerLabel']['value'])\n",
    "        if movie.get('composerLabel') and movie['composerLabel']['value'] not in newMovieData['composer']:\n",
    "            newMovieData[\n",
    "                'composer'].append(movie['composerLabel']['value'])\n",
    "        if movie.get('mainSubjectLabel') and movie['mainSubjectLabel']['value'] not in newMovieData['main_subject']:\n",
    "            newMovieData[\n",
    "                'main_subject'].append(movie['mainSubjectLabel']['value'])\n",
    "    \n",
    "    # Update db with new data\n",
    "    collection.update_many({'imdb_id': movieId}, {'$set': newMovieData})"
   ]
  },
  {
   "attachments": {
    "image.png": {
     "image/png": "[encoded data removed]"
    }
   },
   "cell_type": "markdown",
   "id": "354072b0",
   "metadata": {},
   "source": [
    "#### 1.3.2 Ergebnisse\n",
    "##### Beispielhafter Datensatz mit erweiterten Informationen\n",
    "TODO Lukas: Grafik mit erweiterten Datensatz\n",
    "\n",
    "##### Metriken\n",
    "Von den ursprünglichen 45466 Filmen konnten **42528** erweitert werden. Das bedeutet 2938 Filme sind entweder nicht auf Wikidata vorhanden oder konnten nicht mit über die IMDb ID identifiziert werden. Insgesamt konnten ungefähr **94%** der Filme mit Open Data erweitert werden.\n",
    "\n",
    "Nachstehend ist eine Tabelle in der aufgelistet wird, bei wie vielen der erweiterten Filme (42528) tatsächlich Werte (nicht leer) vorhanden sind. Die Daten sagen aber nicht konkret aus, ob Filmdaten fehlen. Zum Beispiel haben nicht alle Filme einen Vorgänger oder Nachfolger. Daher haben sie entsprechend auch keinen Wert. Ähnlich ist dies auch bei Synchronsprechern. Die Darsteller sprechen sich in der original Sprache natürlich selbst, weswegen dort keine Werte vorhanden sind. Umgekehrt gibt es bei Animationsfilmen keine Darsteller sondern nur Synchronsprecher. Daher kann mit diesen Daten nicht genau bestimmt werden, wie zuverlässlich Open Data ist.\n",
    "\n",
    "| Eigenschaft      | Anzahl Filme | Prozent (gerundet) |\n",
    "|------------------|--------------|--------------------|\n",
    "| Director         | 41871        | 98%                |\n",
    "| Cast member      | 36756        | 86%                |\n",
    "| Voice actor      | 1742         | 4%                 |\n",
    "| Producer         | 25099        | 59%                |\n",
    "| Composer         | 28502        | 67%                |\n",
    "| Main subject     | 8849         | 21%                |\n",
    "| Follows          | 3971         | 9%                 |\n",
    "| Followed by      | 4382         | 10%                |\n",
    "| Publication date | 41317        | 97%                |\n",
    "| Cost             | 3069         | 7%                 |\n",
    "\n",
    "![image.png](attachment:image.png)"
   ]
  },
  {
   "attachments": {},
   "cell_type": "markdown",
   "id": "7eb72484",
   "metadata": {
    "tags": []
   },
   "source": [
    "## 2. Abfragen mit der Datenbank"
   ]
  },
  {
   "attachments": {},
   "cell_type": "markdown",
   "id": "4e82b61a",
   "metadata": {},
   "source": [
    "### 2.1 Beispielhafte Abfragen"
   ]
  },
  {
   "attachments": {},
   "cell_type": "markdown",
   "id": "3cf55fa2",
   "metadata": {},
   "source": [
    "#### Alle Filme mit Schauspieler X oder Y"
   ]
  },
  {
   "cell_type": "markdown",
   "id": "46af7039-8a54-4dbd-a9db-b4e66800fe6f",
   "metadata": {},
   "source": [
    "##### In SPARQL"
   ]
  },
  {
   "cell_type": "markdown",
   "id": "c5f81a2f-1ac1-4183-a7bf-0e0bf9d4abea",
   "metadata": {},
   "source": [
    "```SQL\n",
    "SELECT DISTINCT ?film ?filmLabel ?id ?castMember ?castMemberLabel\n",
    "WHERE {\n",
    "  \n",
    "  ?film wdt:P345 ?id ; \n",
    "        wdt:P161 ?castMember .\n",
    "  \n",
    "  FILTER(?castMember = wd:Q76478 -- Kirsten Dunst\n",
    "            || ?castMember = wd:Q35332) -- Brad Pitt               \n",
    "  SERVICE wikibase:label { bd:serviceParam wikibase:language 'en'. } . \n",
    " \n",
    "}\n",
    "```"
   ]
  },
  {
   "cell_type": "markdown",
   "id": "60e62944-af59-4f50-96f4-1aaaf13db8ae",
   "metadata": {},
   "source": [
    "##### In Python mit PyMongo"
   ]
  },
  {
   "cell_type": "code",
   "execution_count": 11,
   "id": "d0cf056f",
   "metadata": {
    "tags": [],
    "vscode": {
     "languageId": "python"
    }
   },
   "outputs": [
    {
     "name": "stdout",
     "output_type": "stream",
     "text": [
      "'Jumanji'\n",
      "['Laura Bell Bundy',\n",
      " 'Gillian Barber',\n",
      " 'Gary Joseph Thorup',\n",
      " 'James Handy',\n",
      " 'Patricia Clarkson',\n",
      " 'Malcolm Stewart',\n",
      " 'Bradley Pierce',\n",
      " 'Bebe Neuwirth',\n",
      " 'Adam Hann-Byrd',\n",
      " 'Bonnie Hunt',\n",
      " 'Jonathan Hyde',\n",
      " 'David Alan Grier',\n",
      " 'Kirsten Dunst',\n",
      " 'Robin Williams']\n",
      "'-----------------------'\n"
     ]
    }
   ],
   "source": [
    "movies = collection.find({'cast_member': { '$in': ['Kirsten Dunst', 'Brad Pitt']}})\n",
    "for movie in movies:\n",
    "    pprint(movie['title'])\n",
    "    pprint(movie['cast_member'])\n",
    "    pprint('-----------------------')"
   ]
  },
  {
   "attachments": {},
   "cell_type": "markdown",
   "id": "d2174375",
   "metadata": {},
   "source": [
    "#### Alle Filme mit Thema X und Y"
   ]
  },
  {
   "cell_type": "markdown",
   "id": "ae706cd6-b157-4d16-8285-a45de1171d24",
   "metadata": {},
   "source": [
    "##### In SPARQL"
   ]
  },
  {
   "cell_type": "markdown",
   "id": "408a449a-1f05-4876-b04a-0d52b0a9b18b",
   "metadata": {},
   "source": [
    "```SQL\n",
    "SELECT DISTINCT ?film ?filmLabel ?id ?mainSubject ?mainSubjectLabel\n",
    "WHERE {\n",
    "  \n",
    "  ?film wdt:P345 ?id ; \n",
    "        wdt:P921 ?mainSubject .\n",
    "  \n",
    "  FILTER(?mainSubject = wd:Q179310 || ?castMember = wd:Q11660)                 \n",
    "  SERVICE wikibase:label { bd:serviceParam wikibase:language 'en'. } . \n",
    " \n",
    "}    \n",
    "```"
   ]
  },
  {
   "cell_type": "markdown",
   "id": "0c9de968-0415-4e8c-b5fb-348a5afd0cb9",
   "metadata": {},
   "source": [
    "##### In Python mit PyMongo"
   ]
  },
  {
   "cell_type": "code",
   "execution_count": 12,
   "id": "f24593e3",
   "metadata": {
    "vscode": {
     "languageId": "python"
    }
   },
   "outputs": [
    {
     "name": "stdout",
     "output_type": "stream",
     "text": [
      "'GoldenEye'\n",
      "['computing', 'organized crime', 'terrorism']\n",
      "'-----------------------'\n"
     ]
    }
   ],
   "source": [
    "movies = collection.find({'main_subject': { '$in': ['computing', 'artificial intelligence']}})\n",
    "for movie in movies:\n",
    "    pprint(movie['title'])\n",
    "    pprint(movie['main_subject'])\n",
    "    pprint('-----------------------')"
   ]
  },
  {
   "attachments": {},
   "cell_type": "markdown",
   "id": "d69ae491",
   "metadata": {},
   "source": [
    "#### Alle Filme mit einem Vorgänger oder Nachfolger"
   ]
  },
  {
   "cell_type": "markdown",
   "id": "9efecf04-b50a-414a-94ce-1bcf78d626b5",
   "metadata": {},
   "source": [
    "##### In SPARQL"
   ]
  },
  {
   "cell_type": "markdown",
   "id": "978947bf-845a-4889-8976-fc90b3d4c1ad",
   "metadata": {},
   "source": [
    "```SQL\n",
    "SELECT DISTINCT ?film ?filmLabel ?id ?followedBy ?followedByLabel ?follows ?followsLabel\n",
    "WHERE {\n",
    "  \n",
    "  ?film wdt:P345 ?id .\n",
    "  \n",
    "  OPTIONAL{?film wdt:P155 ?follows .}\n",
    "  OPTIONAL{?film wdt:P156 ?followedBy .}\n",
    "  \n",
    "  FILTER( !isBlank(?follows) || !isBlank(?followedBy) ) \n",
    "  SERVICE wikibase:label { bd:serviceParam wikibase:language 'en'. } . \n",
    "    \n",
    "}\n",
    "```"
   ]
  },
  {
   "cell_type": "markdown",
   "id": "38543d93-9161-4a7d-bb24-219b0d853c4d",
   "metadata": {},
   "source": [
    "##### In Python mit PyMongo"
   ]
  },
  {
   "cell_type": "code",
   "execution_count": 1,
   "id": "57f73cca",
   "metadata": {
    "vscode": {
     "languageId": "python"
    }
   },
   "outputs": [
    {
     "ename": "NameError",
     "evalue": "name 'collection' is not defined",
     "output_type": "error",
     "traceback": [
      "\u001b[0;31m---------------------------------------------------------------------------\u001b[0m",
      "\u001b[0;31mNameError\u001b[0m                                 Traceback (most recent call last)",
      "Cell \u001b[0;32mIn[1], line 1\u001b[0m\n\u001b[0;32m----> 1\u001b[0m movies \u001b[38;5;241m=\u001b[39m \u001b[43mcollection\u001b[49m\u001b[38;5;241m.\u001b[39mfind({\u001b[38;5;124m'\u001b[39m\u001b[38;5;124m$or\u001b[39m\u001b[38;5;124m'\u001b[39m: [ {\u001b[38;5;124m'\u001b[39m\u001b[38;5;124mfollows\u001b[39m\u001b[38;5;124m'\u001b[39m: {\u001b[38;5;124m'\u001b[39m\u001b[38;5;124m$ne\u001b[39m\u001b[38;5;124m'\u001b[39m: \u001b[38;5;124m'\u001b[39m\u001b[38;5;124m'\u001b[39m}}, {\u001b[38;5;124m'\u001b[39m\u001b[38;5;124mfollowed_by\u001b[39m\u001b[38;5;124m'\u001b[39m: {\u001b[38;5;124m'\u001b[39m\u001b[38;5;124m$ne\u001b[39m\u001b[38;5;124m'\u001b[39m: \u001b[38;5;124m'\u001b[39m\u001b[38;5;124m'\u001b[39m}}]})\n\u001b[1;32m      2\u001b[0m \u001b[38;5;28;01mfor\u001b[39;00m movie \u001b[38;5;129;01min\u001b[39;00m movies:\n\u001b[1;32m      3\u001b[0m     \u001b[38;5;28;01mif\u001b[39;00m movie\u001b[38;5;241m.\u001b[39mget(\u001b[38;5;124m\"\u001b[39m\u001b[38;5;124mfollows\u001b[39m\u001b[38;5;124m\"\u001b[39m, \u001b[38;5;124m\"\u001b[39m\u001b[38;5;124m\"\u001b[39m) \u001b[38;5;129;01mor\u001b[39;00m movie\u001b[38;5;241m.\u001b[39mget(\u001b[38;5;124m\"\u001b[39m\u001b[38;5;124mfollowed_by\u001b[39m\u001b[38;5;124m\"\u001b[39m, \u001b[38;5;124m\"\u001b[39m\u001b[38;5;124m\"\u001b[39m):\n",
      "\u001b[0;31mNameError\u001b[0m: name 'collection' is not defined"
     ]
    }
   ],
   "source": [
    "movies = collection.find({'$or': [ {'follows': {'$ne': ''}}, {'followed_by': {'$ne': ''}}]})\n",
    "for movie in movies:\n",
    "    if movie.get(\"follows\", \"\") or movie.get(\"followed_by\", \"\"):\n",
    "        pprint(f'Titel: {movie.get(\"title\", \"\")}')\n",
    "        pprint(f'Vorgänger: {movie.get(\"follows\", \"\")}')\n",
    "        pprint(f'Nachfolger: {movie.get(\"followed_by\", \"\")}')\n",
    "        pprint('-----------------------')\n"
   ]
  },
  {
   "attachments": {},
   "cell_type": "markdown",
   "id": "bbe9ba61",
   "metadata": {},
   "source": [
    "#### Alle Filme mit Kosten zwischen X und Y"
   ]
  },
  {
   "cell_type": "markdown",
   "id": "adc48719-b04a-42fd-b721-7977cd954407",
   "metadata": {},
   "source": [
    "##### In SparQL"
   ]
  },
  {
   "cell_type": "markdown",
   "id": "cab44d38-9d27-40c6-a684-962957470c3a",
   "metadata": {},
   "source": [
    "```SQL\n",
    "SELECT DISTINCT ?film ?filmLabel ?id ?cost\n",
    "WHERE {\n",
    "  \n",
    "  ?film wdt:P345 ?id ;\n",
    "        wdt:P2130 ?cost .\n",
    "  \n",
    "  FILTER( ( (?cost = 10000000) || (?cost > 10000000) ) && ( (?cost < 50000000) || (?cost = 50000000) ))\n",
    "  SERVICE wikibase:label { bd:serviceParam wikibase:language 'en'. } . \n",
    "    \n",
    "}\n",
    "```"
   ]
  },
  {
   "cell_type": "markdown",
   "id": "ff386836-f0bf-499d-8187-4bae7a61cb35",
   "metadata": {},
   "source": [
    "##### In Python mit PyMongo"
   ]
  },
  {
   "cell_type": "code",
   "execution_count": 14,
   "id": "d0822dc7",
   "metadata": {
    "vscode": {
     "languageId": "python"
    }
   },
   "outputs": [
    {
     "name": "stdout",
     "output_type": "stream",
     "text": [
      "'Titel: Toy Story Kosten: 30000000'\n",
      "'Titel: Nixon Kosten: 44000000'\n",
      "'Titel: Casino Kosten: 50000000'\n"
     ]
    }
   ],
   "source": [
    "movies = collection.find({'$and': [\n",
    "     {'cost': {'$ne': ''}},\n",
    "     {'$expr': {'$gte': [{'$toDouble': '$cost'}, 10000000]}},\n",
    "     {'$expr': {'$lte': [{'$toDouble': '$cost'}, 50000000]}} \n",
    "     ]})\n",
    "for movie in movies:\n",
    "    pprint(f'Titel: {movie.get(\"title\", \"\")} Kosten: {movie.get(\"cost\", \"\")}')"
   ]
  },
  {
   "attachments": {},
   "cell_type": "markdown",
   "id": "9512c46f",
   "metadata": {},
   "source": [
    "### 2.2 Eure Abfragen"
   ]
  },
  {
   "cell_type": "code",
   "execution_count": null,
   "id": "ac0a18b0",
   "metadata": {
    "vscode": {
     "languageId": "python"
    }
   },
   "outputs": [],
   "source": [
    "movies = collection.find({})\n",
    "for movie in movies:\n",
    "    pprint(movie)"
   ]
  }
 ],
 "metadata": {
  "kernelspec": {
   "display_name": "Python 3 (ipykernel)",
   "language": "python",
   "name": "python3"
  },
  "language_info": {
   "codemirror_mode": {
    "name": "ipython",
    "version": 3
   },
   "file_extension": ".py",
   "mimetype": "text/x-python",
   "name": "python",
   "nbconvert_exporter": "python",
   "pygments_lexer": "ipython3",
   "version": "3.10.11"
  }
 },
 "nbformat": 4,
 "nbformat_minor": 5
}
