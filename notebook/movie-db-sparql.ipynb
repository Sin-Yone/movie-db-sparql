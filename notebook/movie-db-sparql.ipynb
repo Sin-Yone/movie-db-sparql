{
 "cells": [
  {
   "attachments": {},
   "cell_type": "markdown",
   "id": "fc5bb9c9",
   "metadata": {
    "tags": []
   },
   "source": [
    "# Filmdatenbank mithilfe von SPARQL mit OpenData erweitern"
   ]
  },
  {
   "attachments": {},
   "cell_type": "markdown",
   "id": "af8c9039",
   "metadata": {},
   "source": [
    "### Disclaimer\n",
    "Um den Code in diesem Notebook ausführen zu können, müssen vorher einige Packages installiert, importiert und eine Verbindung zur MongoDB aufgebaut werden. Dazu muss der nachstehende Code Block ausgeführt werden."
   ]
  },
  {
   "cell_type": "code",
   "execution_count": null,
   "id": "a6824d1f",
   "metadata": {},
   "outputs": [],
   "source": [
    "%pip install pymongo\n",
    "%pip install SPARQL-Burger\n",
    "%pip install requests\n",
    "from SPARQLBurger.SPARQLQueryBuilder import *\n",
    "import requests\n",
    "import pandas as pd\n",
    "import pymongo\n",
    "from pprint import pprint\n",
    "client = pymongo.MongoClient(\"mongodb://mongodb:27017\")\n",
    "db = client['moviedb']\n",
    "collection = db['movie']"
   ]
  },
  {
   "attachments": {},
   "cell_type": "markdown",
   "id": "49d79719",
   "metadata": {},
   "source": [
    "## 1. Aufgabe"
   ]
  },
  {
   "attachments": {},
   "cell_type": "markdown",
   "id": "d280fb98",
   "metadata": {},
   "source": [
    "### 1.1 Beschreibung\n",
    "Eine vorgegebenen Filmdatenbank für MongoDB soll mit OpenData erweitert werden. Als Datenbasis wird [Wikidata](https://wikidata.org/) genutzt, \n",
    "welche einer der größten offenen und kollaborativ erstellten Wissensdatenbanken der **Welt** ist. Die Filmdatenbank soll mit ausgewählten Informationen ergänzt werden und die neuen Daten dargestellt werden. Schlussendlich sollen neuen Abfragemöglichkeiten gezeigt werden, die sich aufgrund der neuen Daten ergeben."
   ]
  },
  {
   "attachments": {},
   "cell_type": "markdown",
   "id": "d3ccfc92",
   "metadata": {},
   "source": [
    "### 1.2 Beispielhafter Datensatz\n",
    "```json\n",
    "{\n",
    "  \"_id\": {\n",
    "    \"$oid\": \"646787ea309412c96f14b0c4\"\n",
    "  },\n",
    "  \"index\": 0,\n",
    "  \"adult\": \"False\",\n",
    "  \"belongs_to_collection\": \"{'id': 10194, 'name': 'Toy Story Collection', 'poster_path': '/7G9915LfUQ2lVfwMEEhDsn3kT4B.jpg', 'backdrop_path': '/9FBwqcd9IRruEDUrTdcaafOMKUq.jpg'}\",\n",
    "  \"budget\": \"30000000\",\n",
    "  \"genres\": \"[{'id': 16, 'name': 'Animation'}, {'id': 35, 'name': 'Comedy'}, {'id': 10751, 'name': 'Family'}]\",\n",
    "  \"homepage\": \"http://toystory.disney.com/toy-story\",\n",
    "  \"id\": \"862\",\n",
    "  \"imdb_id\": \"tt0114709\",\n",
    "  \"original_language\": \"en\",\n",
    "  \"original_title\": \"Toy Story\",\n",
    "  \"overview\": \"Led by Woody, Andy's toys live happily in his room until Andy's birthday brings Buzz Lightyear onto the scene. Afraid of losing his place in Andy's heart, Woody plots against Buzz. But when circumstances separate Buzz and Woody from their owner, the duo eventually learns to put aside their differences.\",\n",
    "  \"popularity\": 21.946943,\n",
    "  \"poster_path\": \"/rhIRbceoE9lR4veEXuwCC2wARtG.jpg\",\n",
    "  \"production_companies\": \"[{'name': 'Pixar Animation Studios', 'id': 3}]\",\n",
    "  \"production_countries\": \"[{'iso_3166_1': 'US', 'name': 'United States of America'}]\",\n",
    "  \"release_date\": \"1995-10-30\",\n",
    "  \"revenue\": 373554033,\n",
    "  \"runtime\": 81,\n",
    "  \"spoken_languages\": \"[{'iso_639_1': 'en', 'name': 'English'}]\",\n",
    "  \"status\": \"Released\",\n",
    "  \"tagline\": {\n",
    "    \"$numberDouble\": \"NaN\"\n",
    "  },\n",
    "  \"title\": \"Toy Story\",\n",
    "  \"video\": false,\n",
    "  \"vote_average\": 7.7,\n",
    "  \"vote_count\": 5415,\n",
    "}\n",
    "```"
   ]
  },
  {
   "attachments": {},
   "cell_type": "markdown",
   "id": "4e0d741a",
   "metadata": {},
   "source": [
    "### 1.3 Umsetzung"
   ]
  },
  {
   "attachments": {},
   "cell_type": "markdown",
   "id": "ee86de2e",
   "metadata": {},
   "source": [
    "### 1.3.1 Beispielhafter Durchlauf zum Laden der Daten mit SPARQL"
   ]
  },
  {
   "attachments": {},
   "cell_type": "markdown",
   "id": "75654e8e",
   "metadata": {},
   "source": [
    "### 1.3.2 Datensatz mit erweiterten Informationen"
   ]
  },
  {
   "attachments": {},
   "cell_type": "markdown",
   "id": "7eb72484",
   "metadata": {},
   "source": [
    "## 2. Abfragen mit der Datenbank"
   ]
  },
  {
   "attachments": {},
   "cell_type": "markdown",
   "id": "4e82b61a",
   "metadata": {},
   "source": [
    "### 2.1 Beispielhafte Abfragen"
   ]
  },
  {
   "attachments": {},
   "cell_type": "markdown",
   "id": "3cf55fa2",
   "metadata": {},
   "source": [
    "Alle Filme mit Schauspieler X oder Y"
   ]
  },
  {
   "cell_type": "code",
   "execution_count": null,
   "id": "d0cf056f",
   "metadata": {},
   "outputs": [],
   "source": [
    "movies = collection.find({'cast_member': { '$in': ['Kursten Dunst', 'Brad Pitt']}})\n",
    "for movie in movies:\n",
    "    pprint(movie['title'])\n",
    "    pprint(movie['cast_member'])\n",
    "    pprint('-----------------------')"
   ]
  },
  {
   "attachments": {},
   "cell_type": "markdown",
   "id": "d2174375",
   "metadata": {},
   "source": [
    "Alle Filme mit Thema X und Y"
   ]
  },
  {
   "cell_type": "code",
   "execution_count": null,
   "id": "f24593e3",
   "metadata": {},
   "outputs": [],
   "source": [
    "movies = collection.find({'main_subject': { '$all': ['computing', 'artificial intelligence']}})\n",
    "for movie in movies:\n",
    "    pprint(movie['title'])\n",
    "    pprint(movie['main_subject'])\n",
    "    pprint('-----------------------')"
   ]
  },
  {
   "attachments": {},
   "cell_type": "markdown",
   "id": "d69ae491",
   "metadata": {},
   "source": [
    "Alle Filme mit einem Vorgänger oder Nachfolger"
   ]
  },
  {
   "cell_type": "code",
   "execution_count": null,
   "id": "57f73cca",
   "metadata": {},
   "outputs": [],
   "source": [
    "movies = collection.find({'$or': [ {'follows': {'$ne': ''}}, {'followed_by': {'$ne': ''}}]})\n",
    "for movie in movies:\n",
    "    pprint(f'Vorgänger: {movie.get(\"follows\", \"\")}')\n",
    "    pprint(f'Nachfolger: {movie.get(\"followed_by\", \"\")}')\n",
    "    pprint('-----------------------')"
   ]
  },
  {
   "attachments": {},
   "cell_type": "markdown",
   "id": "bbe9ba61",
   "metadata": {},
   "source": [
    "Alle Filme mit Kosten zwischen X und Y"
   ]
  },
  {
   "cell_type": "code",
   "execution_count": null,
   "id": "d0822dc7",
   "metadata": {},
   "outputs": [],
   "source": [
    "movies = collection.find({'$and': [\n",
    "     {'cost': {'$ne': ''}},\n",
    "     {'$expr': {'$gte': [{'$toDouble': '$cost'}, 10000000]}},\n",
    "     {'$expr': {'$lte': [{'$toDouble': '$cost'}, 15000000]}} \n",
    "     ]})\n",
    "for movie in movies:\n",
    "    pprint(movie['cost'])"
   ]
  },
  {
   "attachments": {},
   "cell_type": "markdown",
   "id": "9512c46f",
   "metadata": {},
   "source": [
    "### 2.2 Eure Abfragen"
   ]
  },
  {
   "cell_type": "code",
   "execution_count": null,
   "id": "ac0a18b0",
   "metadata": {},
   "outputs": [],
   "source": [
    "movies = collection.find({})\n",
    "for movie in movies:\n",
    "    pprint(movie)"
   ]
  }
 ],
 "metadata": {
  "kernelspec": {
   "display_name": "Python 3 (ipykernel)",
   "language": "python",
   "name": "python3"
  },
  "language_info": {
   "codemirror_mode": {
    "name": "ipython",
    "version": 3
   },
   "file_extension": ".py",
   "mimetype": "text/x-python",
   "name": "python",
   "nbconvert_exporter": "python",
   "pygments_lexer": "ipython3",
   "version": "3.10.11"
  }
 },
 "nbformat": 4,
 "nbformat_minor": 5
}
